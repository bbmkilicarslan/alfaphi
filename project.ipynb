{
  "nbformat": 4,
  "nbformat_minor": 0,
  "metadata": {
    "colab": {
      "provenance": [],
      "authorship_tag": "ABX9TyOZsQiBoK6M0zZSioyO08Bh",
      "include_colab_link": true
    },
    "kernelspec": {
      "name": "python3",
      "display_name": "Python 3"
    },
    "language_info": {
      "name": "python"
    }
  },
  "cells": [
    {
      "cell_type": "markdown",
      "metadata": {
        "id": "view-in-github",
        "colab_type": "text"
      },
      "source": [
        "<a href=\"https://colab.research.google.com/github/bbmkilicarslan/alfaphi/blob/main/project.ipynb\" target=\"_parent\"><img src=\"https://colab.research.google.com/assets/colab-badge.svg\" alt=\"Open In Colab\"/></a>"
      ]
    },
    {
      "cell_type": "code",
      "execution_count": null,
      "metadata": {
        "colab": {
          "base_uri": "https://localhost:8080/",
          "height": 145
        },
        "id": "s_9KOcYye1bk",
        "outputId": "53361167-ca07-4a59-fc96-c60c7a093aca"
      },
      "outputs": [
        {
          "output_type": "error",
          "ename": "SyntaxError",
          "evalue": "ignored",
          "traceback": [
            "\u001b[0;36m  File \u001b[0;32m\"<ipython-input-2-39025f41e80f>\"\u001b[0;36m, line \u001b[0;32m9\u001b[0m\n\u001b[0;31m    git clone https://github.com/{}/{}.git\u001b[0m\n\u001b[0m        ^\u001b[0m\n\u001b[0;31mSyntaxError\u001b[0m\u001b[0;31m:\u001b[0m invalid syntax\n"
          ]
        }
      ],
      "source": [
        "def host_code_in_github():\n",
        "  \"\"\"This function shows how to host a code in GitHub.\"\"\"\n",
        "\n",
        "  # Create a GitHub account and repository.\n",
        "  username = \"bard\"\n",
        "  repository_name = \"bard.github.io\"\n",
        "\n",
        "  # Clone the repository to your local machine.\n",
        "  git clone https://github.com/{}/{}.git\n",
        "\n",
        "  # Put your code files in the cloned repository.\n",
        "\n",
        "  # Stage and commit your changes.\n",
        "  git add .\n",
        "  git commit -m \"Initial commit\"\n",
        "\n",
        "  # Push your changes to the remote repository.\n",
        "  git push origin main\n",
        "\n",
        "  # Go to your username.github.io website to see your code.\n",
        "  print(\"Your code is now hosted on GitHub Pages!\")\n",
        "\n",
        "if __name__ == \"__main__\":\n",
        "  host_code_in_github()\n"
      ]
    }
  ]
}